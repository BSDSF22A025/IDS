{
 "cells": [
  {
   "cell_type": "code",
   "execution_count": 3,
   "id": "28b1d703-7f74-4d23-95f1-cc3be55bb0a7",
   "metadata": {},
   "outputs": [
    {
     "name": "stdout",
     "output_type": "stream",
     "text": [
      "[1, 2, 3, 4, 5]\n",
      "[3.7, 6.5, 3, 7.95]\n",
      "['hello', 2, 'F', 'good show']\n",
      "[True, False, True]\n",
      "[]\n",
      "<class 'list'>\n"
     ]
    }
   ],
   "source": [
    "# It allows us to store elements of different data types (number, boolean, string, list) in one container.\n",
    "\n",
    "list1 = [1,2,3,4,5]   #list of integers\n",
    "print(list1)\n",
    "\n",
    "list2 = [3.7, 6.5, 3, 7.95 ]   #list of floats\n",
    "print(list2)\n",
    "\n",
    "list3 = [\"hello\", 2, \"F\", \"good show\"]   #list of strings\n",
    "print(list3)\n",
    "\n",
    "list4 = [True, False, True]   #list of boolean\n",
    "print(list4)\n",
    "\n",
    "list5 = []   #this will create an empty list\n",
    "print(list5)\n",
    "\n",
    "print(type(list5))"
   ]
  },
  {
   "cell_type": "code",
   "execution_count": 4,
   "id": "81d591a1-0f6b-46ad-8379-cdbc1a531558",
   "metadata": {},
   "outputs": [
    {
     "name": "stdout",
     "output_type": "stream",
     "text": [
      "['Lubaba', 30, 5.5, [10, 'rauf']]\n"
     ]
    }
   ],
   "source": [
    "list1 = [\"Lubaba\", 30, 5.5, [10,'rauf']]\n",
    "print(list1)"
   ]
  },
  {
   "cell_type": "code",
   "execution_count": 5,
   "id": "4095ce7f-83a4-4384-9bf8-39ac174c1a0f",
   "metadata": {},
   "outputs": [
    {
     "name": "stdout",
     "output_type": "stream",
     "text": [
      "[1, 2, 3, 4, 5]\n",
      "['lubaba', 30, 5.5, [10, 'khalid']]\n",
      "[]\n"
     ]
    }
   ],
   "source": [
    "list1 = [1,2,3,4,5]\n",
    "list2 = [\"lubaba\", 30, 5.5, [10,'khalid']]\n",
    "empty_list = []\n",
    "\n",
    "print(list1, list2, empty_list, sep='\\n')"
   ]
  },
  {
   "cell_type": "code",
   "execution_count": 6,
   "id": "19b5e3e4-58e2-4638-9374-d1364e524079",
   "metadata": {},
   "outputs": [
    {
     "data": {
      "text/plain": [
       "(1632478438080, 1632478506304, False, True)"
      ]
     },
     "execution_count": 6,
     "metadata": {},
     "output_type": "execute_result"
    }
   ],
   "source": [
    "x = [1, 2, 3]\n",
    "y = [1, 2, 3]\n",
    "id(x), id(y), x is y, x==y"
   ]
  },
  {
   "cell_type": "code",
   "execution_count": 7,
   "id": "466319ee-5aeb-4443-b8a8-e61b9ed0099c",
   "metadata": {},
   "outputs": [
    {
     "data": {
      "text/plain": [
       "(1632478502464, 1632478084736, False, False)"
      ]
     },
     "execution_count": 7,
     "metadata": {},
     "output_type": "execute_result"
    }
   ],
   "source": [
    "a = [1, 2, 3]\n",
    "b = [2, 3, 1]\n",
    "id(a), id(b), a is b, a == b"
   ]
  },
  {
   "cell_type": "code",
   "execution_count": 8,
   "id": "5409df0c-0333-4ae6-a25a-a6e0c329cce7",
   "metadata": {},
   "outputs": [
    {
     "name": "stdout",
     "output_type": "stream",
     "text": [
      "numbers:  [10, 20, 555, 40, 50]\n"
     ]
    }
   ],
   "source": [
    "numbers = [10, 20, 30, 40, 50]\n",
    "numbers[2] = 555\n",
    "print(\"numbers: \", numbers)"
   ]
  },
  {
   "cell_type": "code",
   "execution_count": 9,
   "id": "33cc9a2b-d209-43c9-a312-4e753cecc6bf",
   "metadata": {},
   "outputs": [
    {
     "data": {
      "text/plain": [
       "([1, 2, 3, [4, 5], [6, 7, 8, 9], 10, 11],\n",
       " [1, 2, 3, [4, 5, [6, 7, 8, [9, 10, 11]]]])"
      ]
     },
     "execution_count": 9,
     "metadata": {},
     "output_type": "execute_result"
    }
   ],
   "source": [
    "# A list having two sub-lists within it\n",
    "a = [1,2,3,[4,5],[6,7,8,9],10,11]\n",
    "\n",
    "# A list having a sublist, which is further having a sublist and that again having a sublist\n",
    "b = [1,2,3,[4,5,[6,7,8,[9,10,11]]]]\n",
    "a, b"
   ]
  },
  {
   "cell_type": "code",
   "execution_count": 10,
   "id": "ab20f3a8-b201-40ba-9c20-ddae40f0259f",
   "metadata": {},
   "outputs": [
    {
     "data": {
      "text/plain": [
       "10"
      ]
     },
     "execution_count": 10,
     "metadata": {},
     "output_type": "execute_result"
    }
   ],
   "source": [
    "b[3][2][3][1]"
   ]
  },
  {
   "cell_type": "code",
   "execution_count": 11,
   "id": "9421f534-cc98-405b-a1cb-f0756edaed58",
   "metadata": {},
   "outputs": [
    {
     "name": "stdout",
     "output_type": "stream",
     "text": [
      "learning with Arif\n"
     ]
    }
   ],
   "source": [
    "mylist = ['learning', 'is', 'fun', 'with', 'Arif']\n",
    "a, b, c, d, e = mylist # the number of variables on the left must match the number of elements in the list\n",
    "print (a, d, e)"
   ]
  },
  {
   "cell_type": "code",
   "execution_count": 12,
   "id": "672fbdd2-1fb1-4e15-beab-856dffe4c657",
   "metadata": {},
   "outputs": [
    {
     "name": "stdout",
     "output_type": "stream",
     "text": [
      "['learning', 'is', 'fun', 'with', 'Arif']\n",
      "<class 'tuple'>\n",
      "<class 'list'>\n"
     ]
    }
   ],
   "source": [
    "tuple1 = a,b,c,d,e\n",
    "mylist2 = list(tuple1)\n",
    "print(mylist2)\n",
    "print(type(tuple1))\n",
    "print(type(mylist2))"
   ]
  },
  {
   "cell_type": "code",
   "execution_count": 15,
   "id": "35f1fdbc-9bc5-40c1-b15a-f9b7561e70e0",
   "metadata": {},
   "outputs": [
    {
     "name": "stdout",
     "output_type": "stream",
     "text": [
      "[10, 'khalid']\n",
      "b\n",
      "khalid\n"
     ]
    }
   ],
   "source": [
    "\n",
    "list1 = [\"Lubaba\", 30, 5.5, [10,'khalid']]\n",
    "print(list1[3])\n",
    "\n",
    "print(list1[0][2])             \n",
    "print(list1[3][1])"
   ]
  },
  {
   "cell_type": "code",
   "execution_count": 16,
   "id": "7e4ee623-73c6-4b07-b31a-173feb812fe6",
   "metadata": {},
   "outputs": [
    {
     "name": "stdout",
     "output_type": "stream",
     "text": [
      "[10, 'khalid']\n",
      "5.5\n"
     ]
    }
   ],
   "source": [
    "list1 = [\"lubaba\", 30, 5.5, [10,'khalid']]\n",
    "print(list1[-1])               \n",
    "print(list1[-2])"
   ]
  },
  {
   "cell_type": "code",
   "execution_count": 17,
   "id": "3ec0d33c-e9d1-482f-9415-11e6764f4dbd",
   "metadata": {},
   "outputs": [
    {
     "name": "stdout",
     "output_type": "stream",
     "text": [
      "\n",
      "mylist:  [27, 4.5, 'arif', 64, 'hadeed', 19, 'arif']\n"
     ]
    },
    {
     "data": {
      "text/plain": [
       "2"
      ]
     },
     "execution_count": 17,
     "metadata": {},
     "output_type": "execute_result"
    }
   ],
   "source": [
    "mylist = [27, 4.5, 'arif', 64, 'hadeed', 19, 'arif']\n",
    "print(\"\\nmylist: \", mylist)\n",
    "mylist.index('arif')"
   ]
  },
  {
   "cell_type": "code",
   "execution_count": 18,
   "id": "a2a30337-b0a4-4028-9455-95e96ca993bc",
   "metadata": {},
   "outputs": [
    {
     "name": "stdout",
     "output_type": "stream",
     "text": [
      "['a', 'b', 'c', 'd', 'e', 'f', 'g', 'h', 'i']\n",
      "['a', 'b', 'c', 'd', 'e', 'f', 'g', 'h', 'i']\n",
      "['a', 'c', 'e', 'g', 'i']\n",
      "['a', 'd', 'g']\n"
     ]
    }
   ],
   "source": [
    "list1 = ['a','b','c','d','e','f','g','h','i']\n",
    "print(list1[::])  # A default step of 1\n",
    "print(list1[::1])  # A step of 1\n",
    "print(list1[::2])  # A step of 2\n",
    "print(list1[::3])  # A step of 3"
   ]
  },
  {
   "cell_type": "code",
   "execution_count": 19,
   "id": "00888342-5d39-416d-993b-d011ffc3cf7c",
   "metadata": {},
   "outputs": [
    {
     "name": "stdout",
     "output_type": "stream",
     "text": [
      "['a', 'd', 'g']\n",
      "['d', 'e', 'f']\n",
      "[]\n",
      "['i', 'h']\n"
     ]
    }
   ],
   "source": [
    "list1 = ['a','b','c','d','e','f','g','h','i']\n",
    "\n",
    "print(list1[::3])\n",
    "print(list1[3:6])\n",
    "print(list1[2:8:-1])\n",
    "print(list1[-1:-3:-1])"
   ]
  },
  {
   "cell_type": "code",
   "execution_count": 20,
   "id": "919398b1-bd28-472b-b311-cf6062965d81",
   "metadata": {},
   "outputs": [
    {
     "data": {
      "text/plain": [
       "([1, 2, 3], [1, 2, 3, 4, 5], [0, 1, 2, 3, 4, 5])"
      ]
     },
     "execution_count": 20,
     "metadata": {},
     "output_type": "execute_result"
    }
   ],
   "source": [
    "a = [1,2,3]\n",
    "b = a + [4,5]\n",
    "# Add some elements to the beginning of an existing list using concatenation operator\n",
    "c = [0] + b\n",
    "a, b, c"
   ]
  },
  {
   "cell_type": "code",
   "execution_count": 21,
   "id": "3d5058d5-3c72-406b-b2c4-2a2abd10174a",
   "metadata": {},
   "outputs": [
    {
     "name": "stdout",
     "output_type": "stream",
     "text": [
      "[5, 3.4, 'hello', 31, 9.7, 'bye']\n"
     ]
    }
   ],
   "source": [
    "list1 = [5, 3.4, 'hello']\n",
    "list2 = [31, 9.7, 'bye']\n",
    "list3 = list1 + list2\n",
    "print(list3)"
   ]
  },
  {
   "cell_type": "code",
   "execution_count": 22,
   "id": "92815aad-e919-4a55-97a5-84bcd3a0fe88",
   "metadata": {},
   "outputs": [
    {
     "name": "stdout",
     "output_type": "stream",
     "text": [
      "[1, 2, 3, 4, 5, 6, [7, 8]]\n"
     ]
    }
   ],
   "source": [
    "num1 = [1,2,3]\n",
    "num2 = num1 + [4, 5, 6, [7, 8]]\n",
    "print (num2)"
   ]
  },
  {
   "cell_type": "code",
   "execution_count": 23,
   "id": "e0c706db-7bf7-4b87-a6ef-acb18b47307d",
   "metadata": {},
   "outputs": [
    {
     "name": "stdout",
     "output_type": "stream",
     "text": [
      "['Arif', 'Hadeed', 'Mujahid', 'Arif', 'Hadeed', 'Mujahid', 'Arif', 'Hadeed', 'Mujahid']\n"
     ]
    }
   ],
   "source": [
    "name = ['Arif', 'Hadeed', 'Mujahid']\n",
    "a = name * 3\n",
    "print(a)"
   ]
  },
  {
   "cell_type": "code",
   "execution_count": 24,
   "id": "3ddf074d-eb9b-4ccd-9fc5-aa4567066ea5",
   "metadata": {},
   "outputs": [
    {
     "data": {
      "text/plain": [
       "['data science', 'big data', 2, 5, 7]"
      ]
     },
     "execution_count": 24,
     "metadata": {},
     "output_type": "execute_result"
    }
   ],
   "source": [
    "mylist = ['data science', 'machine learning', 2, 5, 7]\n",
    "# Let us change the second element of this list\n",
    "mylist[1] = 'big data'\n",
    "mylist"
   ]
  },
  {
   "cell_type": "code",
   "execution_count": 25,
   "id": "70dac0b6-20d9-435b-8993-13f9e6987e37",
   "metadata": {},
   "outputs": [
    {
     "data": {
      "text/plain": [
       "['english', 'urdu', 2, 5, 7]"
      ]
     },
     "execution_count": 25,
     "metadata": {},
     "output_type": "execute_result"
    }
   ],
   "source": [
    "mylist = ['data science', 'machine learning', 2, 5, 7]\n",
    "mylist[0:2] = ['english', 'urdu'] # Note we are replacing two elements with two elements\n",
    "mylist"
   ]
  },
  {
   "cell_type": "code",
   "execution_count": 26,
   "id": "feab6725-c9e2-43b1-be04-309a39768dda",
   "metadata": {},
   "outputs": [
    {
     "data": {
      "text/plain": [
       "['BIG DATA', 2, 5, 7]"
      ]
     },
     "execution_count": 26,
     "metadata": {},
     "output_type": "execute_result"
    }
   ],
   "source": [
    "mylist = ['data science', 'machine learning', 2, 5, 7]\n",
    "mylist[0:2] = ['BIG DATA'] # Note we are replacing two elements with one element\n",
    "mylist"
   ]
  },
  {
   "cell_type": "code",
   "execution_count": 28,
   "id": "b91ad028-dd5e-4b8c-9bff-eaed37192a9f",
   "metadata": {},
   "outputs": [
    {
     "data": {
      "text/plain": [
       "[['math', 'stat'], 'machine learning', 2, 5, 7]"
      ]
     },
     "execution_count": 28,
     "metadata": {},
     "output_type": "execute_result"
    }
   ],
   "source": [
    "mylist = ['data science', 'machine learning', 2, 5, 7]\n",
    "mylist[0] = ['math', 'stat'] # Note we are replacing one element with two elements\n",
    "mylist"
   ]
  },
  {
   "cell_type": "code",
   "execution_count": 29,
   "id": "80347256-ed00-4349-b0d6-0a5e5982ed5c",
   "metadata": {},
   "outputs": [
    {
     "data": {
      "text/plain": [
       "[2, 4, 6, 8, 4.631, 'hello']"
      ]
     },
     "execution_count": 29,
     "metadata": {},
     "output_type": "execute_result"
    }
   ],
   "source": [
    "list1 = [2, 4, 6, 8]\n",
    "list1.append(4.631)\n",
    "list1.append('hello')\n",
    "list1"
   ]
  },
  {
   "cell_type": "code",
   "execution_count": 30,
   "id": "a3f40265-b005-4164-aa73-c69beeefdc68",
   "metadata": {},
   "outputs": [
    {
     "data": {
      "text/plain": [
       "[2, 4, 6, 8, [4.631, 'hello']]"
      ]
     },
     "execution_count": 30,
     "metadata": {},
     "output_type": "execute_result"
    }
   ],
   "source": [
    "list1 = [2, 4, 6, 8]\n",
    "list1.append([4.631, 'hello'])\n",
    "list1"
   ]
  },
  {
   "cell_type": "code",
   "execution_count": 31,
   "id": "3c1686d0-6915-40ee-b622-4222bb193687",
   "metadata": {},
   "outputs": [
    {
     "data": {
      "text/plain": [
       "[2, 4, 6, 8, 4.631, 'hello']"
      ]
     },
     "execution_count": 31,
     "metadata": {},
     "output_type": "execute_result"
    }
   ],
   "source": [
    "list1 = [2, 4, 6, 8]\n",
    "list1.extend([4.631, 'hello'])\n",
    "list1"
   ]
  },
  {
   "cell_type": "code",
   "execution_count": 32,
   "id": "ebd98be3-c8fc-4bfd-9502-117efcd8b021",
   "metadata": {},
   "outputs": [
    {
     "data": {
      "text/plain": [
       "['apple', 'banana', 'cherry', 'potato', 'tomato', 'radish']"
      ]
     },
     "execution_count": 32,
     "metadata": {},
     "output_type": "execute_result"
    }
   ],
   "source": [
    "fruits = ['apple', 'banana', 'cherry']\n",
    "vegs = ['potato', 'tomato', 'radish']\n",
    "fruits.extend(vegs)\n",
    "fruits"
   ]
  },
  {
   "cell_type": "code",
   "execution_count": 33,
   "id": "252a8886-b32e-4b17-b4b0-dffaaafbec49",
   "metadata": {},
   "outputs": [
    {
     "name": "stdout",
     "output_type": "stream",
     "text": [
      "\n",
      "Original family list:  ['Farooq', 'Rauf', 'Hadeed']\n",
      "After insert:  ['Farooq', 'Rauf', 'Arif', 'Hadeed']\n"
     ]
    }
   ],
   "source": [
    "myfamily = [\"Farooq\", 'Rauf', 'Hadeed']\n",
    "print(\"\\nOriginal family list: \", myfamily)\n",
    "myfamily.insert(2,'Arif')\n",
    "print(\"After insert: \", myfamily)"
   ]
  },
  {
   "cell_type": "code",
   "execution_count": 34,
   "id": "e438a36b-7d38-42e7-ad75-ece5e32c79fe",
   "metadata": {},
   "outputs": [
    {
     "data": {
      "text/plain": [
       "['Farooq', 'Rauf', ['Maaz', 'Mohid'], 'Arif']"
      ]
     },
     "execution_count": 34,
     "metadata": {},
     "output_type": "execute_result"
    }
   ],
   "source": [
    "myfamily = [\"Farooq\", 'Rauf', 'Arif']\n",
    "myfamily.insert(2,['Maaz','Mohid'])\n",
    "myfamily"
   ]
  },
  {
   "cell_type": "code",
   "execution_count": 35,
   "id": "6bec14ce-f5cb-43cc-be68-780c978876a8",
   "metadata": {},
   "outputs": [
    {
     "name": "stdout",
     "output_type": "stream",
     "text": [
      "Original list:  ['learning', 'is', 'fun', 'with', 'arif', 'butt']\n",
      "\n",
      "After pop():  ['learning', 'is', 'fun', 'with', 'arif']\n",
      "Element popped is:  butt\n"
     ]
    }
   ],
   "source": [
    "list1 = ['learning', 'is', 'fun', 'with', 'arif', 'butt']\n",
    "print(\"Original list: \", list1)\n",
    "x  = list1.pop()\n",
    "print(\"\\nAfter pop(): \", list1)\n",
    "print(\"Element popped is: \", x)"
   ]
  },
  {
   "cell_type": "code",
   "execution_count": 36,
   "id": "bd96c008-6c89-427b-a745-f5e8878c781f",
   "metadata": {},
   "outputs": [
    {
     "name": "stdout",
     "output_type": "stream",
     "text": [
      "\n",
      "After pop(2):  ['learning', 'is', 'with', 'arif']\n",
      "Element popped is:  fun\n"
     ]
    }
   ],
   "source": [
    "y = list1.pop(2)\n",
    "print(\"\\nAfter pop(2): \", list1)\n",
    "print(\"Element popped is: \", y)"
   ]
  },
  {
   "cell_type": "code",
   "execution_count": 37,
   "id": "993d20ab-d7bc-4b35-bee8-49bd61d5fe4b",
   "metadata": {},
   "outputs": [
    {
     "name": "stdout",
     "output_type": "stream",
     "text": [
      "\n",
      "After pop(-2):  ['learning', 'is', 'arif']\n",
      "Element popped is:  with\n"
     ]
    }
   ],
   "source": [
    "z = list1.pop(-2)\n",
    "print(\"\\nAfter pop(-2): \", list1)\n",
    "print(\"Element popped is: \", z)"
   ]
  },
  {
   "cell_type": "code",
   "execution_count": 38,
   "id": "0e2fc60f-f6d0-40c4-9441-429c5c1308d8",
   "metadata": {},
   "outputs": [
    {
     "name": "stdout",
     "output_type": "stream",
     "text": [
      "\n",
      "Original list:  ['learning', 'is', 'fun', 'with', 'arif', 'butt', 'fun']\n",
      "After remove('fun'):  ['learning', 'is', 'with', 'arif', 'butt', 'fun']\n",
      "Return value of remove() is:  None\n"
     ]
    }
   ],
   "source": [
    "list2 = ['learning', 'is', 'fun', 'with', 'arif', 'butt', 'fun']\n",
    "print(\"\\nOriginal list: \", list2)\n",
    "\n",
    "x = list2.remove('fun')\n",
    "\n",
    "print(\"After remove('fun'): \", list2)\n",
    "print(\"Return value of remove() is: \", x)"
   ]
  },
  {
   "cell_type": "code",
   "execution_count": 39,
   "id": "70299071-d9e0-44d9-907f-2575f4391f6e",
   "metadata": {},
   "outputs": [
    {
     "name": "stdout",
     "output_type": "stream",
     "text": [
      "\n",
      "After clear() the list becomes empty:  []\n"
     ]
    }
   ],
   "source": [
    "list2 = ['learning', 'is', 'fun', 'with', 'arif', 'butt']\n",
    "list2.clear()\n",
    "print(\"\\nAfter clear() the list becomes empty: \", list2)"
   ]
  },
  {
   "cell_type": "code",
   "execution_count": 40,
   "id": "9e9f65d0-35f2-4960-88db-70c7e81c2fa2",
   "metadata": {},
   "outputs": [
    {
     "data": {
      "text/plain": [
       "[1, 2, 3, 7, 8, 9]"
      ]
     },
     "execution_count": 40,
     "metadata": {},
     "output_type": "execute_result"
    }
   ],
   "source": [
    "list3 = [1,2,3,4,5,6,7,8,9]\n",
    "del list3[3:6]\n",
    "list3"
   ]
  },
  {
   "cell_type": "code",
   "execution_count": 41,
   "id": "086dc6ba-f617-4173-84dc-656282619a4a",
   "metadata": {},
   "outputs": [
    {
     "name": "stdout",
     "output_type": "stream",
     "text": [
      "\n",
      "Original list [1, 2, 3, [53, 41, 99, 12], 8, 9]\n",
      "After del list1[3] the list becomes [1, 2, 3, 8, 9]\n"
     ]
    }
   ],
   "source": [
    "list3 = [1,2,3,[53, 41, 99, 12], 8,9]\n",
    "print(\"\\nOriginal list\", list3)\n",
    "del list3[3]\n",
    "print(\"After del list1[3] the list becomes\", list3)"
   ]
  },
  {
   "cell_type": "code",
   "execution_count": 43,
   "id": "60900d54-2181-440b-b3a8-717ded480e1c",
   "metadata": {},
   "outputs": [
    {
     "name": "stdout",
     "output_type": "stream",
     "text": [
      "<class 'str'>\n",
      "Original string:  Learning is fun and its type is:   <class 'str'>\n",
      "l1:  ['L', 'e', 'a', 'r', 'n', 'i', 'n', 'g', ' ', 'i', 's', ' ', 'f', 'u', 'n'] and its type is:   <class 'list'>\n"
     ]
    }
   ],
   "source": [
    "str1 = 'Learning is fun'    \n",
    "print(type(str1))\n",
    "print(\"Original string: \", str1, \"and its type is:  \", type(str1))\n",
    "l1 = list(str1)\n",
    "print(\"l1: \", l1, \"and its type is:  \", type(l1))"
   ]
  },
  {
   "cell_type": "code",
   "execution_count": 44,
   "id": "3fecfe38-8887-48f9-bc91-835f6cc779ea",
   "metadata": {},
   "outputs": [
    {
     "data": {
      "text/plain": [
       "['Learning', 'is', 'fun']"
      ]
     },
     "execution_count": 44,
     "metadata": {},
     "output_type": "execute_result"
    }
   ],
   "source": [
    "str1 = 'Learning is fun'\n",
    "list1 = str1.split(' ')\n",
    "list1"
   ]
  },
  {
   "cell_type": "code",
   "execution_count": 45,
   "id": "aef89afe-e848-48f7-9cbc-312da520b7cf",
   "metadata": {},
   "outputs": [
    {
     "data": {
      "text/plain": [
       "['Data S', 'ien', 'e is GR8 Degree']"
      ]
     },
     "execution_count": 45,
     "metadata": {},
     "output_type": "execute_result"
    }
   ],
   "source": [
    "str2 = \"Data Science is GR8 Degree\"    #this is a string\n",
    "list2 = str2.split('c')\n",
    "list2"
   ]
  },
  {
   "cell_type": "code",
   "execution_count": 46,
   "id": "6655695c-009f-4395-87e3-64449186aa78",
   "metadata": {},
   "outputs": [
    {
     "name": "stdout",
     "output_type": "stream",
     "text": [
      "Data S # ien # e is GR8 Degree\n",
      "<class 'str'>\n"
     ]
    }
   ],
   "source": [
    "delimiter = \" # \"\n",
    "str3 = delimiter.join(list2)\n",
    "print(str3)\n",
    "print(type(str3))"
   ]
  },
  {
   "cell_type": "code",
   "execution_count": 47,
   "id": "06fb9abd-26f1-43ec-920a-2b67b85f001f",
   "metadata": {},
   "outputs": [
    {
     "name": "stdout",
     "output_type": "stream",
     "text": [
      "length of list:  7\n",
      "max element in list:  8\n",
      "min element in list:  0\n",
      "Sum of element in list:  30\n"
     ]
    }
   ],
   "source": [
    "list_num = [3, 8, 1, 6, 0, 8, 4]\n",
    "\n",
    "print(\"length of list: \", len(list_num))\n",
    "print(\"max element in list: \", max(list_num))\n",
    "print(\"min element in list: \",min(list_num))\n",
    "print(\"Sum of element in list: \",sum(list_num))"
   ]
  },
  {
   "cell_type": "code",
   "execution_count": 48,
   "id": "82704859-93a3-47c4-b09a-e6759cac3d86",
   "metadata": {},
   "outputs": [
    {
     "name": "stdout",
     "output_type": "stream",
     "text": [
      "[1, 2, 3, 4]\n",
      "[1, 2, 3, 4]\n",
      "ID of Old List: 1632478589888\n",
      "ID of New List: 1632478523392\n"
     ]
    }
   ],
   "source": [
    "# Shallow copy using slice operator while doing assignment\n",
    "list1 = [1, 2, 3, 4]\n",
    "list2 = list1[:]\n",
    "print(list1)\n",
    "print(list2)\n",
    "# Both variables point to different memory objects, so have the different ID\n",
    "print('ID of Old List:', id(list1))\n",
    "print('ID of New List:', id(list2))"
   ]
  },
  {
   "cell_type": "code",
   "execution_count": 49,
   "id": "748304d3-cc1d-4594-87fd-7cc890230c60",
   "metadata": {},
   "outputs": [
    {
     "name": "stdout",
     "output_type": "stream",
     "text": [
      "Original numbers list:  [3, 8, 1, 6, 0, 8, 4]\n",
      "Ascending Sort:  [0, 1, 3, 4, 6, 8, 8]\n",
      "Descending Sort:  [8, 8, 6, 4, 3, 1, 0]\n"
     ]
    }
   ],
   "source": [
    "list_num = [3, 8, 1, 6, 0, 8, 4]\n",
    "print(\"Original numbers list: \", list_num)\n",
    "\n",
    "list_num.sort()\n",
    "print(\"Ascending Sort: \", list_num)\n",
    "\n",
    "list_num.sort(reverse=True)\n",
    "print(\"Descending Sort: \", list_num)\n"
   ]
  },
  {
   "cell_type": "code",
   "execution_count": 50,
   "id": "777fc393-f026-4fb1-a07c-72c52a300feb",
   "metadata": {},
   "outputs": [
    {
     "name": "stdout",
     "output_type": "stream",
     "text": [
      "\n",
      "Original names list:  ['XYZ', 'ABC', 'MNO', 'ARIF']\n",
      "Ascending Sort:  ['ABC', 'ARIF', 'MNO', 'XYZ']\n",
      "Descending Sort:  ['XYZ', 'MNO', 'ARIF', 'ABC']\n"
     ]
    }
   ],
   "source": [
    "list_names = [\"XYZ\", \"ABC\", \"MNO\", \"ARIF\"]\n",
    "print(\"\\nOriginal names list: \", list_names)\n",
    "\n",
    "list_names.sort()         \n",
    "print(\"Ascending Sort: \", list_names)\n",
    "\n",
    "list_names.sort(reverse=True)         \n",
    "print(\"Descending Sort: \", list_names)"
   ]
  },
  {
   "cell_type": "code",
   "execution_count": 51,
   "id": "59b5ae32-850e-4a08-a3b0-3e5e13566a05",
   "metadata": {},
   "outputs": [
    {
     "data": {
      "text/plain": [
       "['d', 'bb', 'ccc', 'aaaaa']"
      ]
     },
     "execution_count": 51,
     "metadata": {},
     "output_type": "execute_result"
    }
   ],
   "source": [
    "list1 = ['ccc', 'aaaaa', 'd', 'bb']\n",
    "list1.sort(key=len)\n",
    "list1"
   ]
  },
  {
   "cell_type": "code",
   "execution_count": 52,
   "id": "b8b5578e-6cfe-41fb-b940-4df7e3a6d205",
   "metadata": {},
   "outputs": [
    {
     "data": {
      "text/plain": [
       "['xyza', 'arif', 'bas', 'abcz']"
      ]
     },
     "execution_count": 52,
     "metadata": {},
     "output_type": "execute_result"
    }
   ],
   "source": [
    "def last(s):\n",
    "    return s[-1]\n",
    "\n",
    "list1 = ['abcz', 'xyza', 'bas', 'arif']\n",
    "list1.sort(key=last)\n",
    "list1"
   ]
  },
  {
   "cell_type": "code",
   "execution_count": 53,
   "id": "91149231-0aec-450a-a9ba-38216b157957",
   "metadata": {},
   "outputs": [
    {
     "name": "stdout",
     "output_type": "stream",
     "text": [
      "False\n",
      "True\n",
      "True\n"
     ]
    }
   ],
   "source": [
    "list_num = [3, 8, 1, 6, 0, 8, 4]\n",
    "rv1 = 9 in list_num\n",
    "print(rv1)\n",
    "\n",
    "rv2 = 9 not in list_num\n",
    "print(rv2)\n",
    "\n",
    "\n",
    "list_names = [\"XYZ\", \"ABC\", \"MNO\", \"ARIF\"]\n",
    "rv3 = \"ARIF\" in list_names\n",
    "print(rv3)"
   ]
  },
  {
   "cell_type": "code",
   "execution_count": 54,
   "id": "4b94d48f-c3d8-4170-9a1b-6f31f902ead6",
   "metadata": {},
   "outputs": [
    {
     "name": "stdout",
     "output_type": "stream",
     "text": [
      "False\n",
      "True\n"
     ]
    }
   ],
   "source": [
    "x = ['hello']\n",
    "y = ['hello']\n",
    "print (x is y) # is operator is checking the memory address (ID) of two lists\n",
    "print (x == y)"
   ]
  },
  {
   "cell_type": "code",
   "execution_count": 55,
   "id": "ee7d754c-e6be-453b-bc95-f66d09f0a40e",
   "metadata": {},
   "outputs": [
    {
     "name": "stdout",
     "output_type": "stream",
     "text": [
      "True\n",
      "True\n"
     ]
    }
   ],
   "source": [
    "x = 'hello'\n",
    "y = 'hello'\n",
    "print (x is y) # is operator is checking the memory address (ID) of two strings\n",
    "print (x == y)"
   ]
  },
  {
   "cell_type": "code",
   "execution_count": 56,
   "id": "05f267f3-8887-4625-95e6-0a00ec3133f3",
   "metadata": {},
   "outputs": [
    {
     "name": "stdout",
     "output_type": "stream",
     "text": [
      "array('i', [3, 6, 9, 2])\n",
      "<class 'array.array'>\n",
      "array('f', [3.4000000953674316, 6.699999809265137, 9.5, 2.0])\n",
      "<class 'array.array'>\n"
     ]
    }
   ],
   "source": [
    "import array\n",
    "\n",
    "# declaring array of integers\n",
    "arr1 = array.array(\"i\", [3, 6, 9, 2])  \n",
    "print(arr1)  \n",
    "print(type(arr1))  \n",
    "\n",
    "# declaring array of floats\n",
    "arr2 = array.array(\"f\", [3.4, 6.7, 9.5, 2])  \n",
    "print(arr2)  \n",
    "print(type(arr2))"
   ]
  },
  {
   "cell_type": "code",
   "execution_count": null,
   "id": "8df41935-ab4b-4544-8f77-e6ed483234db",
   "metadata": {},
   "outputs": [],
   "source": []
  }
 ],
 "metadata": {
  "kernelspec": {
   "display_name": "Python 3 (ipykernel)",
   "language": "python",
   "name": "python3"
  },
  "language_info": {
   "codemirror_mode": {
    "name": "ipython",
    "version": 3
   },
   "file_extension": ".py",
   "mimetype": "text/x-python",
   "name": "python",
   "nbconvert_exporter": "python",
   "pygments_lexer": "ipython3",
   "version": "3.13.0"
  }
 },
 "nbformat": 4,
 "nbformat_minor": 5
}
