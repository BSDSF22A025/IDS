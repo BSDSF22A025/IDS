{
 "cells": [
  {
   "cell_type": "code",
   "execution_count": 1,
   "id": "1465eec0-69f0-4c4a-87cc-42ba1ac09186",
   "metadata": {},
   "outputs": [
    {
     "name": "stdout",
     "output_type": "stream",
     "text": [
      "t1:  (1, 2, 3, 4, 5)\n",
      "t2:  (2.3, 5.6, 1.8)\n",
      "t3:  ('hello', 'this', 'F', 'good show')\n",
      "t4:  (True, False, True)\n",
      "Type of t4 is:  <class 'tuple'>\n"
     ]
    }
   ],
   "source": [
    "t1 = (1, 2, 3, 4, 5)   #tuple of integers\n",
    "t1 = 1, 2, 3, 4, 5\n",
    "print(\"t1: \", t1)\n",
    "\n",
    "t2 = (2.3, 5.6, 1.8)  #tuple of floats\n",
    "print(\"t2: \", t2)\n",
    "\n",
    "t3 = ('hello', 'this', 'F', 'good show') #tuple of strings\n",
    "print(\"t3: \", t3)\n",
    "\n",
    "t4 = (True, False, True)    # tuple of boolean values\n",
    "print(\"t4: \", t4)\n",
    "\n",
    "\n",
    "print(\"Type of t4 is: \", type(t4))"
   ]
  },
  {
   "cell_type": "code",
   "execution_count": 2,
   "id": "34097563-9b21-4c06-999a-9ffe6fb45be0",
   "metadata": {},
   "outputs": [
    {
     "name": "stdout",
     "output_type": "stream",
     "text": [
      "t5:  ()\n"
     ]
    }
   ],
   "source": [
    "t5 = ()\n",
    "print(\"t5: \", t5)"
   ]
  },
  {
   "cell_type": "code",
   "execution_count": 3,
   "id": "df78a27e-ed35-45e4-816f-5befe6802067",
   "metadata": {},
   "outputs": [
    {
     "data": {
      "text/plain": [
       "(1750670168128, 1750670172288, False, False)"
      ]
     },
     "execution_count": 3,
     "metadata": {},
     "output_type": "execute_result"
    }
   ],
   "source": [
    "a = (1, 2, 3)\n",
    "b = (2, 3, 1)\n",
    "id(a), id(b), a is b, a == b"
   ]
  },
  {
   "cell_type": "code",
   "execution_count": 4,
   "id": "9eab35fa-b34e-4faa-ac20-58ec5cdf50f6",
   "metadata": {},
   "outputs": [
    {
     "ename": "TypeError",
     "evalue": "'tuple' object does not support item assignment",
     "output_type": "error",
     "traceback": [
      "\u001b[1;31m---------------------------------------------------------------------------\u001b[0m",
      "\u001b[1;31mTypeError\u001b[0m                                 Traceback (most recent call last)",
      "Cell \u001b[1;32mIn[4], line 3\u001b[0m\n\u001b[0;32m      1\u001b[0m \u001b[38;5;66;03m#Tuples are immutable, i.e., tuple elements cannot be changed\u001b[39;00m\n\u001b[0;32m      2\u001b[0m numbers \u001b[38;5;241m=\u001b[39m (\u001b[38;5;241m10\u001b[39m, \u001b[38;5;241m20\u001b[39m, \u001b[38;5;241m30\u001b[39m)\n\u001b[1;32m----> 3\u001b[0m \u001b[43mnumbers\u001b[49m\u001b[43m[\u001b[49m\u001b[38;5;241;43m2\u001b[39;49m\u001b[43m]\u001b[49m \u001b[38;5;241m=\u001b[39m \u001b[38;5;241m15\u001b[39m    \u001b[38;5;66;03m# this will generate an error\u001b[39;00m\n",
      "\u001b[1;31mTypeError\u001b[0m: 'tuple' object does not support item assignment"
     ]
    }
   ],
   "source": [
    "#Tuples are immutable, i.e., tuple elements cannot be changed\n",
    "numbers = (10, 20, 30)\n",
    "numbers[2] = 15    # this will generate an error"
   ]
  },
  {
   "cell_type": "code",
   "execution_count": 5,
   "id": "92634162-90e1-4dc0-9e9a-a3490ee4fc4a",
   "metadata": {},
   "outputs": [
    {
     "data": {
      "text/plain": [
       "(1, 2, 3)"
      ]
     },
     "execution_count": 5,
     "metadata": {},
     "output_type": "execute_result"
    }
   ],
   "source": [
    "# Tupple however can be reassigned\n",
    "numbers = (10, 20, 30)\n",
    "numbers = (1, 2, 3)  # A tupple can be reassigned\n",
    "numbers"
   ]
  },
  {
   "cell_type": "code",
   "execution_count": 6,
   "id": "b5cc2551-269c-4758-be69-c6b18ea7cc94",
   "metadata": {},
   "outputs": [
    {
     "data": {
      "text/plain": [
       "(1, 'Hello', [8, 'Not OK', 6], (1, 2, 'BYE'), 5.5)"
      ]
     },
     "execution_count": 6,
     "metadata": {},
     "output_type": "execute_result"
    }
   ],
   "source": [
    "t1 = (1, \"Hello\", [8, 'OK', 6], (1, 2, 'BYE'), 5.5)\n",
    "t1[2][1] = 'Not OK'         # will work fine\n",
    "t1"
   ]
  },
  {
   "cell_type": "code",
   "execution_count": 7,
   "id": "86aba2c1-dcbd-4ff8-8094-7d940e282aca",
   "metadata": {},
   "outputs": [
    {
     "name": "stdout",
     "output_type": "stream",
     "text": [
      "learning fun Arif\n",
      "<class 'str'>\n"
     ]
    }
   ],
   "source": [
    "# you can unpack tuple elements\n",
    "t1 = ('learning', 'is', 'fun', 'with', 'Arif')\n",
    "a, b, c, d, e = t1 # the number of variables on the left must match the length of tuple\n",
    "print (a, c, e)\n",
    "print(type(a))"
   ]
  },
  {
   "cell_type": "code",
   "execution_count": 8,
   "id": "46d8818f-b6c8-43fc-bb47-ef218e0a2843",
   "metadata": {},
   "outputs": [
    {
     "name": "stdout",
     "output_type": "stream",
     "text": [
      "('learning', 'is', 'fun', 'with', 'Arif')\n",
      "<class 'tuple'>\n"
     ]
    }
   ],
   "source": [
    "t1 = a,b,c,d,e\n",
    "print(t1)\n",
    "print(type(t1))"
   ]
  },
  {
   "cell_type": "code",
   "execution_count": 9,
   "id": "de21637d-d7b2-482f-b670-01a4317bfe1a",
   "metadata": {},
   "outputs": [
    {
     "name": "stdout",
     "output_type": "stream",
     "text": [
      "5.5\n",
      "(10, 'rauf')\n",
      "i\n",
      "rauf\n"
     ]
    }
   ],
   "source": [
    "#You can access elements of tuple using indexing which starts from zero\n",
    "t1 = (\"Arif\", 30, 5.5, (10,'rauf'))\n",
    "\n",
    "print(t1[2])       #accessing element of tuple at index2\n",
    "print(t1[3])       #accessing element of tuple at index3, which is again a tuple\n",
    "\n",
    "#accessing Nested tuple element\n",
    "print(t1[0][2])              #accessing third character of a tuple element at index 0\n",
    "print(t1[3][1])              #accessing second element of Nested tuple at index 3"
   ]
  },
  {
   "cell_type": "code",
   "execution_count": 10,
   "id": "aa4b0d3d-7af1-4d35-a4ff-44ceb3d22737",
   "metadata": {},
   "outputs": [
    {
     "data": {
      "text/plain": [
       "('a', 'b', 'c', 'd', 'e', 'f', 'g', 'h', 'i')"
      ]
     },
     "execution_count": 10,
     "metadata": {},
     "output_type": "execute_result"
    }
   ],
   "source": [
    "t1 = ('a','b','c','d','e','f','g','h','i')\n",
    "t1"
   ]
  },
  {
   "cell_type": "code",
   "execution_count": 11,
   "id": "5f9bccff-393b-4f85-8a32-2548bc43fb04",
   "metadata": {},
   "outputs": [
    {
     "ename": "NameError",
     "evalue": "name 't' is not defined",
     "output_type": "error",
     "traceback": [
      "\u001b[1;31m---------------------------------------------------------------------------\u001b[0m",
      "\u001b[1;31mNameError\u001b[0m                                 Traceback (most recent call last)",
      "Cell \u001b[1;32mIn[11], line 1\u001b[0m\n\u001b[1;32m----> 1\u001b[0m \u001b[43mt\u001b[49m[::]\n",
      "\u001b[1;31mNameError\u001b[0m: name 't' is not defined"
     ]
    }
   ],
   "source": [
    "t[::]"
   ]
  },
  {
   "cell_type": "code",
   "execution_count": 12,
   "id": "ba9b8a00-656c-4c7b-961e-b9589c1a81d8",
   "metadata": {},
   "outputs": [
    {
     "data": {
      "text/plain": [
       "('a', 'b', 'c', 'd', 'e', 'f', 'g', 'h', 'i')"
      ]
     },
     "execution_count": 12,
     "metadata": {},
     "output_type": "execute_result"
    }
   ],
   "source": [
    "t1[::]"
   ]
  },
  {
   "cell_type": "code",
   "execution_count": 13,
   "id": "5afd6e60-9ead-4b21-ac60-7747a5aaa3ae",
   "metadata": {},
   "outputs": [
    {
     "data": {
      "text/plain": [
       "('d', 'e', 'f', 'g', 'h', 'i')"
      ]
     },
     "execution_count": 13,
     "metadata": {},
     "output_type": "execute_result"
    }
   ],
   "source": [
    "t1[3:]"
   ]
  },
  {
   "cell_type": "code",
   "execution_count": 14,
   "id": "5c0a0070-4cc7-40c6-bdd5-dbf13ef7049d",
   "metadata": {},
   "outputs": [
    {
     "data": {
      "text/plain": [
       "('a', 'b', 'c')"
      ]
     },
     "execution_count": 14,
     "metadata": {},
     "output_type": "execute_result"
    }
   ],
   "source": [
    "t1[:3]"
   ]
  },
  {
   "cell_type": "code",
   "execution_count": 17,
   "id": "e95d116d-4020-49e4-a8c9-9c13fc8bd4de",
   "metadata": {},
   "outputs": [
    {
     "data": {
      "text/plain": [
       "((1, 2, 3), (1, 2, 3, 4, 5), (0, 1, 2, 3, 4, 5))"
      ]
     },
     "execution_count": 17,
     "metadata": {},
     "output_type": "execute_result"
    }
   ],
   "source": [
    "# Add some elements to the end of an existing tuple using concatenation operator\n",
    "a = (1,2,3)\n",
    "b = a + (4,5)\n",
    "# Add some elements to the beginning of an existing tuple using concatenation operator\n",
    "c = (0,) + b\n",
    "a, b, c"
   ]
  },
  {
   "cell_type": "code",
   "execution_count": 19,
   "id": "e4c5c254-33f5-49f7-9de9-14370847f2eb",
   "metadata": {},
   "outputs": [
    {
     "name": "stdout",
     "output_type": "stream",
     "text": [
      "('lubaba', 'Hafsa', 'khola', 'lubaba', 'Hafsa', 'khola', 'lubaba', 'Hafsa', 'khola')\n"
     ]
    }
   ],
   "source": [
    "name = ('lubaba', 'Hafsa', 'khola')\n",
    "a = name * 3\n",
    "print(a)"
   ]
  },
  {
   "cell_type": "code",
   "execution_count": 20,
   "id": "9ead6a70-a4be-48fa-921f-01a8a72fa9f7",
   "metadata": {},
   "outputs": [
    {
     "name": "stdout",
     "output_type": "stream",
     "text": [
      "('Learning', 'is', 'fun')\n",
      "<class 'tuple'>\n"
     ]
    }
   ],
   "source": [
    "str1 = 'Learning is fun'    #this is a string\n",
    "t1 = tuple(str1.split(' ')) # The split() method returns a list, which you can typecast to a tuple\n",
    "print(t1)\n",
    "print(type(t1))"
   ]
  },
  {
   "cell_type": "code",
   "execution_count": 21,
   "id": "3b09ce58-30f7-4af2-9f3d-20d71823758c",
   "metadata": {},
   "outputs": [
    {
     "name": "stdout",
     "output_type": "stream",
     "text": [
      "('Data S', 'ien', 'e is GR8 Degree')\n",
      "<class 'tuple'>\n"
     ]
    }
   ],
   "source": [
    "str2 = \"Data Science is GR8 Degree\"    #this is a string\n",
    "t2 = tuple(str2.split('c'))\n",
    "print(t2)\n",
    "print(type(t2))"
   ]
  },
  {
   "cell_type": "code",
   "execution_count": 22,
   "id": "d6559ebe-d6f2-437c-9df1-f4f27eb50314",
   "metadata": {},
   "outputs": [
    {
     "name": "stdout",
     "output_type": "stream",
     "text": [
      "3\n"
     ]
    }
   ],
   "source": [
    "t1 = (3, 8, 1, 6, 0, 8, 4)\n",
    "rv = t1.index(6)\n",
    "print(rv)"
   ]
  },
  {
   "cell_type": "code",
   "execution_count": 23,
   "id": "0dd80ac9-edf7-452c-9140-4c41e22f660e",
   "metadata": {},
   "outputs": [
    {
     "name": "stdout",
     "output_type": "stream",
     "text": [
      "3\n"
     ]
    }
   ],
   "source": [
    "t1 = (3, 8, 1, 6, 8, 0, 8, 4)\n",
    "rv = t1.count(8)\n",
    "print(rv)"
   ]
  },
  {
   "cell_type": "code",
   "execution_count": 24,
   "id": "4048aebc-361c-4a1f-963b-86d822a89f0a",
   "metadata": {},
   "outputs": [
    {
     "name": "stdout",
     "output_type": "stream",
     "text": [
      "False\n",
      "True\n",
      "True\n"
     ]
    }
   ],
   "source": [
    "t1 = (3, 8, 1, 6, 0, 8, 4)\n",
    "rv1 = 9 in t1\n",
    "print(rv1)\n",
    "\n",
    "rv2 = 9 not in t1\n",
    "print(rv2)\n",
    "\n",
    "\n",
    "t2 = (\"XYZ\", \"ABC\", \"MNO\", \"ARIF\")\n",
    "rv3 = \"ARIF\" in t2\n",
    "print(rv3)"
   ]
  },
  {
   "cell_type": "code",
   "execution_count": 25,
   "id": "255588d1-bd20-455c-9686-46f20fa54abf",
   "metadata": {},
   "outputs": [
    {
     "name": "stdout",
     "output_type": "stream",
     "text": [
      "1750666426480 1750666426480\n",
      "True\n",
      "True\n"
     ]
    }
   ],
   "source": [
    "str1 = 'hello'\n",
    "str2 = 'hello'\n",
    "print(id(str1), id(str2))\n",
    "\n",
    "print (str1 is str2)  # is operator is checking the memory address (ID) of two strings\n",
    "print (str1 == str2) "
   ]
  },
  {
   "cell_type": "code",
   "execution_count": 26,
   "id": "bedfa5b8-dd25-404d-b3f7-24e2f143d4b0",
   "metadata": {},
   "outputs": [
    {
     "name": "stdout",
     "output_type": "stream",
     "text": [
      "1750676316416 1750676021184\n",
      "False\n",
      "True\n"
     ]
    }
   ],
   "source": [
    "t1 = (1, 2, 3)\n",
    "t2 = (1, 2, 3)\n",
    "print(id(t1), id(t2))\n",
    "\n",
    "print (t1 is t2)   # is operator is checking the memory address (ID) of two tuples\n",
    "print (t1 == t2)"
   ]
  },
  {
   "cell_type": "code",
   "execution_count": 27,
   "id": "2be9fde4-4ae6-4991-8236-d89325ddaadd",
   "metadata": {},
   "outputs": [
    {
     "name": "stdout",
     "output_type": "stream",
     "text": [
      "['xyza', 'arif', 'bas', 'abcz']\n",
      "('abcz', 'xyza', 'bas', 'arif')\n"
     ]
    }
   ],
   "source": [
    "def last(s):\n",
    "    return s[-1]\n",
    "\n",
    "t1 = ('abcz', 'xyza', 'bas', 'arif')\n",
    "rv = sorted(t1, key=last)\n",
    "print(rv)\n",
    "print(t1)"
   ]
  },
  {
   "cell_type": "code",
   "execution_count": null,
   "id": "e7a62789-6c2a-49f1-b250-1fec198be440",
   "metadata": {},
   "outputs": [],
   "source": []
  }
 ],
 "metadata": {
  "kernelspec": {
   "display_name": "Python 3 (ipykernel)",
   "language": "python",
   "name": "python3"
  },
  "language_info": {
   "codemirror_mode": {
    "name": "ipython",
    "version": 3
   },
   "file_extension": ".py",
   "mimetype": "text/x-python",
   "name": "python",
   "nbconvert_exporter": "python",
   "pygments_lexer": "ipython3",
   "version": "3.13.0"
  }
 },
 "nbformat": 4,
 "nbformat_minor": 5
}
