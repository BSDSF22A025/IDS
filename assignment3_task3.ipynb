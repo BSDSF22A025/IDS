{
 "cells": [
  {
   "cell_type": "code",
   "execution_count": 5,
   "id": "bb2d0c90-0330-4477-87ca-b6538e074afb",
   "metadata": {},
   "outputs": [
    {
     "name": "stdout",
     "output_type": "stream",
     "text": [
      "Caught chained exception: An error occurred while processing the number 'thirty'\n"
     ]
    }
   ],
   "source": [
    "# Custom exception for division by zero\n",
    "class DivisionByZeroError(Exception):\n",
    "    pass\n",
    "\n",
    "def divide_numbers(numbers, divisor):\n",
    "    results = []\n",
    "    \n",
    "    for number in numbers:\n",
    "        try:\n",
    "            # Attempt to divide the number by the divisor\n",
    "            if divisor == 0:\n",
    "                raise DivisionByZeroError(\"Cannot divide by zero.\")\n",
    "            result = number / divisor\n",
    "            results.append(result)\n",
    "        \n",
    "        except DivisionByZeroError as e:\n",
    "            print(f\"Error: {e}\")\n",
    "            break  # Stop further division if divisor is zero\n",
    "        \n",
    "        except Exception as e:\n",
    "            # Catch other types of errors (e.g., non-numeric inputs) and chain them\n",
    "            raise ValueError(f\"An error occurred while processing the number '{number}'\") from e\n",
    "    \n",
    "    return results\n",
    "\n",
    "# Example usage\n",
    "numbers = [10, 20, \"thirty\", 40, 50]  # A mix of valid and invalid data\n",
    "divisor = 2\n",
    "\n",
    "try:\n",
    "    results = divide_numbers(numbers, divisor)\n",
    "    print(f\"Results: {results}\")\n",
    "except ValueError as e:\n",
    "    print(f\"Caught chained exception: {e}\")\n"
   ]
  },
  {
   "cell_type": "code",
   "execution_count": 6,
   "id": "74c328a9-41ba-43ec-876d-b9f86bf28dfe",
   "metadata": {},
   "outputs": [
    {
     "name": "stderr",
     "output_type": "stream",
     "text": [
      "ERROR:root:Exception occurred in function 'divide'\n",
      "ERROR:root:Exception type: ZeroDivisionError\n",
      "ERROR:root:Exception message: division by zero\n",
      "ERROR:root:Exception occurred in function 'divide'\n",
      "ERROR:root:Exception type: TypeError\n",
      "ERROR:root:Exception message: unsupported operand type(s) for /: 'str' and 'int'\n"
     ]
    }
   ],
   "source": [
    "import functools\n",
    "import logging\n",
    "\n",
    "# Set up logging to print the exception details to the console\n",
    "logging.basicConfig(level=logging.ERROR)\n",
    "\n",
    "def exception_logger(func):\n",
    "    @functools.wraps(func)\n",
    "    def wrapper(*args, **kwargs):\n",
    "        try:\n",
    "            return func(*args, **kwargs)  # Try to execute the function\n",
    "        except Exception as e:\n",
    "            # Log exception details: type, message, and function name\n",
    "            logging.error(f\"Exception occurred in function '{func.__name__}'\")\n",
    "            logging.error(f\"Exception type: {type(e).__name__}\")\n",
    "            logging.error(f\"Exception message: {e}\")\n",
    "            # Re-raise the exception to propagate it further if needed\n",
    "            raise\n",
    "    return wrapper\n",
    "\n",
    "# Example usage\n",
    "@exception_logger\n",
    "def divide(a, b):\n",
    "    return a / b\n",
    "\n",
    "# Test cases\n",
    "try:\n",
    "    divide(10, 0)  # This will raise a ZeroDivisionError\n",
    "except ZeroDivisionError:\n",
    "    pass\n",
    "\n",
    "try:\n",
    "    divide(\"ten\", 2)  # This will raise a TypeError\n",
    "except TypeError:\n",
    "    pass\n"
   ]
  },
  {
   "cell_type": "code",
   "execution_count": null,
   "id": "bfb01bbb-f39b-4bd2-b6a9-b6aabf9a384e",
   "metadata": {},
   "outputs": [],
   "source": []
  }
 ],
 "metadata": {
  "kernelspec": {
   "display_name": "Python 3 (ipykernel)",
   "language": "python",
   "name": "python3"
  },
  "language_info": {
   "codemirror_mode": {
    "name": "ipython",
    "version": 3
   },
   "file_extension": ".py",
   "mimetype": "text/x-python",
   "name": "python",
   "nbconvert_exporter": "python",
   "pygments_lexer": "ipython3",
   "version": "3.13.0"
  }
 },
 "nbformat": 4,
 "nbformat_minor": 5
}
