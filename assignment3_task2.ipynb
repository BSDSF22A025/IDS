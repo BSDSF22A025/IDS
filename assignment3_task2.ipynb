{
 "cells": [
  {
   "cell_type": "code",
   "execution_count": 2,
   "id": "23fb3f0f-b27e-4f7e-8c38-2254db379e59",
   "metadata": {},
   "outputs": [
    {
     "name": "stdout",
     "output_type": "stream",
     "text": [
      "1\n",
      "4\n",
      "9\n",
      "16\n",
      "25\n",
      "36\n"
     ]
    }
   ],
   "source": [
    "class SquareIterator:\n",
    "    def __init__(self, n):\n",
    "        self.n = n  # The number of natural numbers\n",
    "        self.current = 1  # Start at the first natural number\n",
    "    \n",
    "    def __iter__(self):\n",
    "        return self  # The iterator object must return itself\n",
    "    \n",
    "    def __next__(self):\n",
    "        if self.current <= self.n:  # Check less than equal or not\n",
    "            result = self.current ** 2  # Calculate the square of the current number\n",
    "            self.current += 1  #increment 1 means move to the next natural number\n",
    "            return result\n",
    "        else:\n",
    "            raise StopIteration  # Raise StopIteration at termination time\n",
    "\n",
    "square_iterator = SquareIterator(6)  # Create an iterator for the first 5 natural numbers\n",
    "\n",
    "for square in square_iterator:\n",
    "    print(square)\n"
   ]
  },
  {
   "cell_type": "code",
   "execution_count": 4,
   "id": "af804ad0-226d-4198-b7ad-fa548df0910e",
   "metadata": {},
   "outputs": [
    {
     "name": "stdout",
     "output_type": "stream",
     "text": [
      "0\n",
      "1\n",
      "1\n",
      "2\n",
      "3\n",
      "5\n",
      "8\n"
     ]
    }
   ],
   "source": [
    "def fibonacci_generator(n):\n",
    "    a=0  # Starting values for the Fibonacci sequence\n",
    "    b=1\n",
    "    while a <= n:\n",
    "        yield a  # Yield the current Fibonacci number\n",
    "        a, b = b, a + b  # b value asign to a and b update with a+b for the next number in the sequence\n",
    "\n",
    "\n",
    "n = 10  # Generate Fibonacci numbers up to 10\n",
    "for i in fibonacci_generator(n):# function call in the loop\n",
    "    print(i)\n"
   ]
  },
  {
   "cell_type": "code",
   "execution_count": null,
   "id": "9cc7ad88-0fc0-45e0-908b-32174410d484",
   "metadata": {},
   "outputs": [],
   "source": []
  }
 ],
 "metadata": {
  "kernelspec": {
   "display_name": "Python 3 (ipykernel)",
   "language": "python",
   "name": "python3"
  },
  "language_info": {
   "codemirror_mode": {
    "name": "ipython",
    "version": 3
   },
   "file_extension": ".py",
   "mimetype": "text/x-python",
   "name": "python",
   "nbconvert_exporter": "python",
   "pygments_lexer": "ipython3",
   "version": "3.13.0"
  }
 },
 "nbformat": 4,
 "nbformat_minor": 5
}
