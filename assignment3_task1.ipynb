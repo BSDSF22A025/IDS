{
 "cells": [
  {
   "cell_type": "code",
   "execution_count": 1,
   "id": "cb467a1b-a857-4960-b600-6a52f964c891",
   "metadata": {},
   "outputs": [
    {
     "name": "stdout",
     "output_type": "stream",
     "text": [
      "[{'customer': 'Alice', 'total': 250.5}, {'customer': 'Charlie', 'total': 450}, {'customer': 'Daisy', 'total': 100.0}]\n"
     ]
    }
   ],
   "source": [
    "def validate_orders(orders):\n",
    "    #lambda function is used within filter() to validate each order\n",
    "    valid_orders = filter(lambda order: is_valid_order(order), orders)\n",
    "    \n",
    "    return list(valid_orders)\n",
    "\n",
    "# check order is valid or not\n",
    "def is_valid_order(order):\n",
    "    try:\n",
    "        # Try to convert the 'total' to float and check it is non-negative\n",
    "        total = float(order[\"total\"])\n",
    "        if total < 0:\n",
    "            return False\n",
    "        return True\n",
    "    except (ValueError, TypeError):\n",
    "        #try-except block to catch any issues related to non-numeric values\n",
    "        return False\n",
    "\n",
    "orders = [\n",
    "    {\"customer\": \"Alice\", \"total\": 250.5},\n",
    "    {\"customer\": \"Bob\", \"total\": \"invalid_data\"},\n",
    "    {\"customer\": \"Charlie\", \"total\": 450},\n",
    "    {\"customer\": \"Daisy\", \"total\": 100.0},\n",
    "    {\"customer\": \"Eve\", \"total\": -30}  #invalid total\n",
    "]\n",
    "# function call validate_orders and print it\n",
    "#return only the valid orders as a list of dictionaries\n",
    "valid_orders = validate_orders(orders)\n",
    "print(valid_orders)\n"
   ]
  },
  {
   "cell_type": "code",
   "execution_count": 2,
   "id": "94724527-eb05-4f0d-92e2-3065e60aa479",
   "metadata": {},
   "outputs": [
    {
     "name": "stdout",
     "output_type": "stream",
     "text": [
      "[{'customer': 'Alice', 'total': 250.5}, {'customer': 'Charlie', 'total': 405.0}, {'customer': 'Daisy', 'total': 100.0}]\n"
     ]
    }
   ],
   "source": [
    "def apply_discount(orders):\n",
    "    # Lambda function with map() to apply a 10% discount to orders which is greater than $300\n",
    "    discounted_orders = map(lambda order: apply_order_discount(order), orders)\n",
    "    \n",
    "    return list(discounted_orders) #discount applied\n",
    "\n",
    "# apply_order_discount function checks if the total is greater than $300 or not\n",
    "def apply_order_discount(order):\n",
    "    if order[\"total\"] > 300:\n",
    "        # Apply 10% discount\n",
    "        order[\"total\"] = round(order[\"total\"] * 0.9, 2)  # Rounding to 2 decimal places\n",
    "    return order\n",
    "\n",
    "# valid orders\n",
    "valid_orders = [\n",
    "    {\"customer\": \"Alice\", \"total\": 250.5},\n",
    "    {\"customer\": \"Charlie\", \"total\": 450},\n",
    "    {\"customer\": \"Daisy\", \"total\": 100.0}\n",
    "]\n",
    "#function call and print discounted orders\n",
    "discounted_orders = apply_discount(valid_orders)\n",
    "print(discounted_orders)\n"
   ]
  },
  {
   "cell_type": "code",
   "execution_count": 3,
   "id": "99b6893b-8e2d-41ff-8ade-41b2a74fcf67",
   "metadata": {},
   "outputs": [
    {
     "name": "stdout",
     "output_type": "stream",
     "text": [
      "Total Sales: $755.5\n"
     ]
    }
   ],
   "source": [
    "from functools import reduce\n",
    "\n",
    "def calculate_total_sales(orders):\n",
    "    # Lambda function with reduce() to calculate the total sales\n",
    "    total_sales = reduce(lambda acc, order: acc + order[\"total\"], orders, 0)\n",
    "    #return total sale\n",
    "    return total_sales\n",
    "\n",
    "\n",
    "discounted_orders = [\n",
    "    {\"customer\": \"Alice\", \"total\": 250.5},\n",
    "    {\"customer\": \"Charlie\", \"total\": 405.0},  # Discount applied\n",
    "    {\"customer\": \"Daisy\", \"total\": 100.0}\n",
    "]\n",
    "#function call to calculate total sales\n",
    "total_sales = calculate_total_sales(discounted_orders)\n",
    "print(f\"Total Sales: ${total_sales}\")\n"
   ]
  },
  {
   "cell_type": "code",
   "execution_count": null,
   "id": "547f5713-a0c0-4b5a-b482-1a98cf5f413b",
   "metadata": {},
   "outputs": [],
   "source": []
  }
 ],
 "metadata": {
  "kernelspec": {
   "display_name": "Python 3 (ipykernel)",
   "language": "python",
   "name": "python3"
  },
  "language_info": {
   "codemirror_mode": {
    "name": "ipython",
    "version": 3
   },
   "file_extension": ".py",
   "mimetype": "text/x-python",
   "name": "python",
   "nbconvert_exporter": "python",
   "pygments_lexer": "ipython3",
   "version": "3.13.0"
  }
 },
 "nbformat": 4,
 "nbformat_minor": 5
}
